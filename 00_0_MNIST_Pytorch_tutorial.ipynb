{
  "cells": [
    {
      "cell_type": "markdown",
      "metadata": {
        "id": "view-in-github",
        "colab_type": "text"
      },
      "source": [
        "<a href=\"https://colab.research.google.com/github/SandeshBashyal/naamii_labs_2023/blob/main/00_0_MNIST_Pytorch_tutorial.ipynb\" target=\"_parent\"><img src=\"https://colab.research.google.com/assets/colab-badge.svg\" alt=\"Open In Colab\"/></a>"
      ]
    },
    {
      "cell_type": "markdown",
      "metadata": {
        "id": "LMAWTDn2MZzr"
      },
      "source": [
        "## Import Torch"
      ]
    },
    {
      "cell_type": "code",
      "execution_count": 1,
      "metadata": {
        "id": "_nPx3VscMZzu"
      },
      "outputs": [],
      "source": [
        "### Main torch library\n",
        "import torch\n",
        "### For Neural Network\n",
        "import torch.nn as nn"
      ]
    },
    {
      "cell_type": "code",
      "execution_count": 2,
      "metadata": {
        "id": "1yYYtUuyMZzv"
      },
      "outputs": [],
      "source": [
        "### You can find dataset there\n",
        "from torch.utils import data\n",
        "from torchvision import datasets"
      ]
    },
    {
      "cell_type": "markdown",
      "metadata": {
        "id": "I2mNTeWgMZzw"
      },
      "source": [
        "## Example Matrix Multiplication"
      ]
    },
    {
      "cell_type": "code",
      "execution_count": 3,
      "metadata": {
        "colab": {
          "base_uri": "https://localhost:8080/"
        },
        "id": "vdn9xLtxMZzw",
        "outputId": "4b682d7a-24ed-4ad4-b595-26ddba0ede9c"
      },
      "outputs": [
        {
          "output_type": "execute_result",
          "data": {
            "text/plain": [
              "tensor([[ 1.6682, -1.1883,  0.1059,  0.6695],\n",
              "        [ 0.7931, -1.3643, -0.0227, -1.0037],\n",
              "        [ 1.5320, -0.1510,  0.9656,  1.3496],\n",
              "        [-0.0878,  0.6337, -0.8215, -1.0584]])"
            ]
          },
          "metadata": {},
          "execution_count": 3
        }
      ],
      "source": [
        "A = torch.randn(4,4)\n",
        "A"
      ]
    },
    {
      "cell_type": "code",
      "execution_count": 4,
      "metadata": {
        "colab": {
          "base_uri": "https://localhost:8080/"
        },
        "id": "luouakZsMZzx",
        "outputId": "f077bee1-9bf3-4fc4-e0b7-6491a0e0d702"
      },
      "outputs": [
        {
          "output_type": "execute_result",
          "data": {
            "text/plain": [
              "tensor([[ 1.8124, -0.3470, -0.6732],\n",
              "        [-0.1637,  0.3193, -1.6238],\n",
              "        [ 0.9543, -1.2514, -0.0687],\n",
              "        [-1.2093, -2.0101,  0.8150]])"
            ]
          },
          "metadata": {},
          "execution_count": 4
        }
      ],
      "source": [
        "B = torch.randn(4, 3)\n",
        "B"
      ]
    },
    {
      "cell_type": "code",
      "execution_count": 5,
      "metadata": {
        "colab": {
          "base_uri": "https://localhost:8080/"
        },
        "id": "p-XMKAv1MZzx",
        "outputId": "e8508a36-ac3e-4e1c-f510-7989133c1640"
      },
      "outputs": [
        {
          "output_type": "execute_result",
          "data": {
            "text/plain": [
              "tensor([[ 2.5094, -2.4365,  1.3449],\n",
              "        [ 2.8528,  1.3351,  0.8652],\n",
              "        [ 2.0907, -4.5011,  0.2474],\n",
              "        [ 0.2331,  3.3883, -1.7760]])"
            ]
          },
          "metadata": {},
          "execution_count": 5
        }
      ],
      "source": [
        "C = torch.matmul(A, B)\n",
        "C"
      ]
    },
    {
      "cell_type": "code",
      "execution_count": 6,
      "metadata": {
        "colab": {
          "base_uri": "https://localhost:8080/"
        },
        "id": "aQvra9TpMZzy",
        "outputId": "aea65214-15dc-47d3-e143-bbe1fcf00b29"
      },
      "outputs": [
        {
          "output_type": "execute_result",
          "data": {
            "text/plain": [
              "torch.Size([4, 3])"
            ]
          },
          "metadata": {},
          "execution_count": 6
        }
      ],
      "source": [
        "C.shape"
      ]
    },
    {
      "cell_type": "markdown",
      "metadata": {
        "id": "-o3U7AL2MZzy"
      },
      "source": [
        "## Load Dataset"
      ]
    },
    {
      "cell_type": "code",
      "execution_count": 7,
      "metadata": {
        "id": "9XU35mrgMZzy"
      },
      "outputs": [],
      "source": [
        "from torchvision import transforms\n",
        "to_tensor = transforms.ToTensor()"
      ]
    },
    {
      "cell_type": "code",
      "execution_count": 8,
      "metadata": {
        "colab": {
          "base_uri": "https://localhost:8080/"
        },
        "id": "gwX1095uMZzz",
        "outputId": "5cd3e0e0-92de-4427-b880-5c6f6f893d8a"
      },
      "outputs": [
        {
          "output_type": "stream",
          "name": "stdout",
          "text": [
            "Downloading http://yann.lecun.com/exdb/mnist/train-images-idx3-ubyte.gz\n",
            "Downloading http://yann.lecun.com/exdb/mnist/train-images-idx3-ubyte.gz to ./datasets/MNIST/raw/train-images-idx3-ubyte.gz\n"
          ]
        },
        {
          "output_type": "stream",
          "name": "stderr",
          "text": [
            "100%|██████████| 9912422/9912422 [00:00<00:00, 101283621.55it/s]\n"
          ]
        },
        {
          "output_type": "stream",
          "name": "stdout",
          "text": [
            "Extracting ./datasets/MNIST/raw/train-images-idx3-ubyte.gz to ./datasets/MNIST/raw\n",
            "\n",
            "Downloading http://yann.lecun.com/exdb/mnist/train-labels-idx1-ubyte.gz\n",
            "Downloading http://yann.lecun.com/exdb/mnist/train-labels-idx1-ubyte.gz to ./datasets/MNIST/raw/train-labels-idx1-ubyte.gz\n"
          ]
        },
        {
          "output_type": "stream",
          "name": "stderr",
          "text": [
            "100%|██████████| 28881/28881 [00:00<00:00, 80864949.15it/s]"
          ]
        },
        {
          "output_type": "stream",
          "name": "stdout",
          "text": [
            "Extracting ./datasets/MNIST/raw/train-labels-idx1-ubyte.gz to ./datasets/MNIST/raw\n",
            "\n",
            "Downloading http://yann.lecun.com/exdb/mnist/t10k-images-idx3-ubyte.gz\n",
            "Downloading http://yann.lecun.com/exdb/mnist/t10k-images-idx3-ubyte.gz to ./datasets/MNIST/raw/t10k-images-idx3-ubyte.gz\n"
          ]
        },
        {
          "output_type": "stream",
          "name": "stderr",
          "text": [
            "\n",
            "100%|██████████| 1648877/1648877 [00:00<00:00, 25995584.88it/s]\n"
          ]
        },
        {
          "output_type": "stream",
          "name": "stdout",
          "text": [
            "Extracting ./datasets/MNIST/raw/t10k-images-idx3-ubyte.gz to ./datasets/MNIST/raw\n",
            "\n",
            "Downloading http://yann.lecun.com/exdb/mnist/t10k-labels-idx1-ubyte.gz\n",
            "Downloading http://yann.lecun.com/exdb/mnist/t10k-labels-idx1-ubyte.gz to ./datasets/MNIST/raw/t10k-labels-idx1-ubyte.gz\n"
          ]
        },
        {
          "output_type": "stream",
          "name": "stderr",
          "text": [
            "100%|██████████| 4542/4542 [00:00<00:00, 14080213.43it/s]"
          ]
        },
        {
          "output_type": "stream",
          "name": "stdout",
          "text": [
            "Extracting ./datasets/MNIST/raw/t10k-labels-idx1-ubyte.gz to ./datasets/MNIST/raw\n",
            "\n"
          ]
        },
        {
          "output_type": "stream",
          "name": "stderr",
          "text": [
            "\n"
          ]
        }
      ],
      "source": [
        "train_data = datasets.MNIST(root=\"./datasets\", train=True, download=True, transform=to_tensor)"
      ]
    },
    {
      "cell_type": "code",
      "execution_count": 9,
      "metadata": {
        "id": "y2C0NbUNMZzz"
      },
      "outputs": [],
      "source": [
        "test_data = datasets.MNIST(root=\"./datasets\", train=False, download=True, transform=to_tensor)"
      ]
    },
    {
      "cell_type": "code",
      "execution_count": 10,
      "metadata": {
        "colab": {
          "base_uri": "https://localhost:8080/"
        },
        "id": "tv-5WJQFMZzz",
        "outputId": "7424fa8c-18bb-44a7-cd10-c827c6c2b40d"
      },
      "outputs": [
        {
          "output_type": "execute_result",
          "data": {
            "text/plain": [
              "torch.Size([60000, 28, 28])"
            ]
          },
          "metadata": {},
          "execution_count": 10
        }
      ],
      "source": [
        "train_data.data.shape"
      ]
    },
    {
      "cell_type": "code",
      "execution_count": 11,
      "metadata": {
        "colab": {
          "base_uri": "https://localhost:8080/"
        },
        "id": "2Mxo0JGrMZz0",
        "outputId": "322df9bd-f685-4f7d-c03f-58f5264b6fd7"
      },
      "outputs": [
        {
          "output_type": "execute_result",
          "data": {
            "text/plain": [
              "torch.Size([10000, 28, 28])"
            ]
          },
          "metadata": {},
          "execution_count": 11
        }
      ],
      "source": [
        "test_data.data.shape"
      ]
    },
    {
      "cell_type": "code",
      "execution_count": 12,
      "metadata": {
        "id": "So07kzXSMZz0"
      },
      "outputs": [],
      "source": [
        "import matplotlib.pyplot as plt"
      ]
    },
    {
      "cell_type": "code",
      "execution_count": 13,
      "metadata": {
        "colab": {
          "base_uri": "https://localhost:8080/",
          "height": 447
        },
        "id": "Ms2n6o0sMZz0",
        "outputId": "47255996-e7d0-4911-9a03-3969cf7a3d5a"
      },
      "outputs": [
        {
          "output_type": "execute_result",
          "data": {
            "text/plain": [
              "(<matplotlib.image.AxesImage at 0x7fdd31983e80>, tensor(5))"
            ]
          },
          "metadata": {},
          "execution_count": 13
        },
        {
          "output_type": "display_data",
          "data": {
            "text/plain": [
              "<Figure size 640x480 with 1 Axes>"
            ],
            "image/png": "[encoded data removed]"
          },
          "metadata": {}
        }
      ],
      "source": [
        "plt.imshow(train_data.data[0]), train_data.targets[0]"
      ]
    },
    {
      "cell_type": "code",
      "execution_count": 14,
      "metadata": {
        "id": "maziwwwqMZz1"
      },
      "outputs": [],
      "source": [
        "train_data_loader = data.DataLoader(train_data, shuffle=True, batch_size=32)\n",
        "test_data_loader = data.DataLoader(test_data, shuffle=True, batch_size=32)"
      ]
    },
    {
      "cell_type": "code",
      "execution_count": 15,
      "metadata": {
        "colab": {
          "base_uri": "https://localhost:8080/"
        },
        "id": "HPxlh1v5MZz1",
        "outputId": "2c2ab05a-19f8-4504-e1f6-1ba08b6c45f5"
      },
      "outputs": [
        {
          "output_type": "stream",
          "name": "stdout",
          "text": [
            "torch.Size([32, 1, 28, 28])\n",
            "torch.Size([32, 784])\n"
          ]
        }
      ],
      "source": [
        "for inputs, label in train_data_loader:\n",
        "    print(inputs.shape)\n",
        "    print(inputs.reshape(32, 784).shape)\n",
        "    break"
      ]
    },
    {
      "cell_type": "markdown",
      "metadata": {
        "id": "iogcCG6wMZz1"
      },
      "source": [
        "### Model - Neural Network"
      ]
    },
    {
      "cell_type": "code",
      "execution_count": 16,
      "metadata": {
        "id": "sEqRhDmnMZz2"
      },
      "outputs": [],
      "source": [
        "model = nn.Sequential(\n",
        "    nn.Linear(28*28, 500),\n",
        "    nn.ReLU(),\n",
        "    nn.Linear(500, 100),\n",
        "    nn.ReLU(),\n",
        "    nn.Linear(100, 10)\n",
        ")"
      ]
    },
    {
      "cell_type": "code",
      "execution_count": 17,
      "metadata": {
        "colab": {
          "base_uri": "https://localhost:8080/"
        },
        "id": "bP_kArhwMZz2",
        "outputId": "ca2ac698-d800-4f5a-ecad-3787dccc1bc1"
      },
      "outputs": [
        {
          "output_type": "execute_result",
          "data": {
            "text/plain": [
              "Sequential(\n",
              "  (0): Linear(in_features=784, out_features=500, bias=True)\n",
              "  (1): ReLU()\n",
              "  (2): Linear(in_features=500, out_features=100, bias=True)\n",
              "  (3): ReLU()\n",
              "  (4): Linear(in_features=100, out_features=10, bias=True)\n",
              ")"
            ]
          },
          "metadata": {},
          "execution_count": 17
        }
      ],
      "source": [
        "model"
      ]
    },
    {
      "cell_type": "code",
      "execution_count": 18,
      "metadata": {
        "colab": {
          "base_uri": "https://localhost:8080/"
        },
        "id": "WfoTUqv6MZz3",
        "outputId": "33de190a-1911-4fc6-c40d-891dc064ade9"
      },
      "outputs": [
        {
          "output_type": "stream",
          "name": "stdout",
          "text": [
            "Outputs\n",
            "tensor([7, 7, 7, 7, 7, 7, 7, 7, 7, 7, 7, 7, 7, 7, 7, 7, 7, 7, 7, 7, 7, 7, 7, 7,\n",
            "        7, 7, 7, 7, 8, 8, 7, 7])\n",
            "Targets\n",
            "tensor([0, 7, 4, 0, 1, 5, 4, 3, 2, 2, 6, 5, 7, 1, 5, 5, 9, 1, 3, 1, 4, 8, 6, 2,\n",
            "        9, 3, 7, 5, 5, 0, 5, 5])\n"
          ]
        }
      ],
      "source": [
        "for inputs, label in test_data_loader:\n",
        "    bs = inputs.shape[0]\n",
        "    \n",
        "    inputs = inputs.reshape(bs, 28*28)\n",
        "    outputs = model(inputs)\n",
        "    out = torch.argmax(outputs, dim=1)\n",
        "    print(\"Outputs\")\n",
        "    print(out)\n",
        "    print(\"Targets\")\n",
        "    print(label)\n",
        "    break"
      ]
    },
    {
      "cell_type": "markdown",
      "metadata": {
        "id": "EwPwq_AsMZz3"
      },
      "source": [
        "## Optimizer"
      ]
    },
    {
      "cell_type": "code",
      "execution_count": 19,
      "metadata": {
        "id": "SoYFd8njMZz4"
      },
      "outputs": [],
      "source": [
        "optimizer = torch.optim.Adam(model.parameters(), lr=0.001)\n",
        "error_function = nn.CrossEntropyLoss()"
      ]
    },
    {
      "cell_type": "markdown",
      "metadata": {
        "id": "VNp0yXrsMZz4"
      },
      "source": [
        "## Training Loop"
      ]
    },
    {
      "cell_type": "code",
      "execution_count": 20,
      "metadata": {
        "id": "i7pbh23UMZz4"
      },
      "outputs": [],
      "source": [
        "# train_loss = []\n",
        "# test_loss = []\n",
        "# train_accuracy = []\n",
        "test_accuracy = []\n",
        "EPOCHS = 50"
      ]
    },
    {
      "cell_type": "code",
      "execution_count": 21,
      "metadata": {
        "id": "TMW2hf6hMZz4"
      },
      "outputs": [],
      "source": [
        "### Find accuracy of Test Dataset\n",
        "count = 0\n",
        "accuracy = 0\n",
        "for inputs, label in test_data_loader:\n",
        "    ### change shape of input\n",
        "    bs = inputs.shape[0]\n",
        "    inputs = inputs.reshape(bs, 28*28)\n",
        "\n",
        "    ### predict the output\n",
        "    outputs = model(inputs)\n",
        "    out = torch.argmax(outputs, dim=1)\n",
        "\n",
        "    accuracy += (out == label).type(torch.float).sum()\n",
        "    count += bs\n",
        "test_accuracy.append(accuracy/count)"
      ]
    },
    {
      "cell_type": "code",
      "execution_count": 22,
      "metadata": {
        "colab": {
          "base_uri": "https://localhost:8080/"
        },
        "id": "b1hxtLj8MZz5",
        "outputId": "f29c2bd3-eaa5-44ac-a6ba-ed9f771f4ac3"
      },
      "outputs": [
        {
          "output_type": "execute_result",
          "data": {
            "text/plain": [
              "[tensor(0.1030)]"
            ]
          },
          "metadata": {},
          "execution_count": 22
        }
      ],
      "source": [
        "test_accuracy"
      ]
    },
    {
      "cell_type": "code",
      "execution_count": 23,
      "metadata": {
        "colab": {
          "base_uri": "https://localhost:8080/",
          "height": 1000
        },
        "id": "IdoHIBciMZz5",
        "outputId": "b7aff0e9-4794-4a70-f0c4-62e7ad21c391"
      },
      "outputs": [
        {
          "output_type": "stream",
          "name": "stdout",
          "text": [
            "Training EPOCH 0\n",
            "Training EPOCH 1\n",
            "Training EPOCH 2\n",
            "Training EPOCH 3\n",
            "Training EPOCH 4\n",
            "Training EPOCH 5\n",
            "Training EPOCH 6\n",
            "Training EPOCH 7\n",
            "Training EPOCH 8\n",
            "Training EPOCH 9\n",
            "Training EPOCH 10\n",
            "Training EPOCH 11\n",
            "Training EPOCH 12\n",
            "Training EPOCH 13\n",
            "Training EPOCH 14\n",
            "Training EPOCH 15\n",
            "Training EPOCH 16\n",
            "Training EPOCH 17\n",
            "Training EPOCH 18\n",
            "Training EPOCH 19\n",
            "Training EPOCH 20\n",
            "Training EPOCH 21\n",
            "Training EPOCH 22\n",
            "Training EPOCH 23\n",
            "Training EPOCH 24\n",
            "Training EPOCH 25\n",
            "Training EPOCH 26\n",
            "Training EPOCH 27\n",
            "Training EPOCH 28\n",
            "Training EPOCH 29\n",
            "Training EPOCH 30\n",
            "Training EPOCH 31\n",
            "Training EPOCH 32\n",
            "Training EPOCH 33\n",
            "Training EPOCH 34\n",
            "Training EPOCH 35\n",
            "Training EPOCH 36\n",
            "Training EPOCH 37\n",
            "Training EPOCH 38\n",
            "Training EPOCH 39\n",
            "Training EPOCH 40\n",
            "Training EPOCH 41\n",
            "Training EPOCH 42\n",
            "Training EPOCH 43\n",
            "Training EPOCH 44\n",
            "Training EPOCH 45\n",
            "Training EPOCH 46\n",
            "Training EPOCH 47\n",
            "Training EPOCH 48\n",
            "Training EPOCH 49\n"
          ]
        },
        {
          "output_type": "display_data",
          "data": {
            "text/plain": [
              "<Figure size 640x480 with 1 Axes>"
            ],
            "image/png": "[encoded data removed]"
          },
          "metadata": {}
        }
      ],
      "source": [
        "for epoch in range(EPOCHS):\n",
        "    print(\"Training EPOCH\", epoch)\n",
        "    for inputs, label in train_data_loader:\n",
        "        ### change shape of input\n",
        "        bs = inputs.shape[0]\n",
        "        inputs = inputs.reshape(bs, 28*28)\n",
        "\n",
        "        ### predict the output\n",
        "        outputs = model(inputs)\n",
        "\n",
        "        ### find the error\n",
        "        error = error_function(outputs, label)\n",
        "\n",
        "        ### backpropagate\n",
        "        optimizer.zero_grad()\n",
        "        error.backward()\n",
        "        optimizer.step()\n",
        "    \n",
        "    ### Find accuracy of Test Dataset\n",
        "    count = 0\n",
        "    accuracy = 0\n",
        "    for inputs, label in test_data_loader:\n",
        "        ### change shape of input\n",
        "        bs = inputs.shape[0]\n",
        "        inputs = inputs.reshape(bs, 28*28)\n",
        "\n",
        "        ### predict the output\n",
        "        outputs = model(inputs)\n",
        "        out = torch.argmax(outputs, dim=1)\n",
        "        \n",
        "        accuracy += (out == label).type(torch.float).sum()\n",
        "        count += bs\n",
        "    test_accuracy.append(accuracy/count)\n",
        "    plt.plot(test_accuracy)\n",
        "    \n",
        "    \n",
        "#     print(\"Outputs\")\n",
        "#     print(out)\n",
        "#     print(\"Targets\")\n",
        "#     print(label)\n",
        "#     break"
      ]
    },
    {
      "cell_type": "code",
      "execution_count": 24,
      "metadata": {
        "colab": {
          "base_uri": "https://localhost:8080/",
          "height": 447
        },
        "id": "MxUqVDx6MZz6",
        "outputId": "415777d5-1345-4b4a-cd4a-040c74ac7648"
      },
      "outputs": [
        {
          "output_type": "execute_result",
          "data": {
            "text/plain": [
              "[<matplotlib.lines.Line2D at 0x7fdd2f4b4bb0>]"
            ]
          },
          "metadata": {},
          "execution_count": 24
        },
        {
          "output_type": "display_data",
          "data": {
            "text/plain": [
              "<Figure size 640x480 with 1 Axes>"
            ],
            "image/png": "[encoded data removed]"
          },
          "metadata": {}
        }
      ],
      "source": [
        "plt.plot(test_accuracy)"
      ]
    },
    {
      "cell_type": "code",
      "execution_count": 28,
      "metadata": {
        "colab": {
          "base_uri": "https://localhost:8080/"
        },
        "id": "zM1LWz5oMZz6",
        "outputId": "fe169ec4-4e99-4a13-a873-fe832a410a41"
      },
      "outputs": [
        {
          "output_type": "execute_result",
          "data": {
            "text/plain": [
              "[tensor(0.1030),\n",
              " tensor(0.9627),\n",
              " tensor(0.9766),\n",
              " tensor(0.9749),\n",
              " tensor(0.9790),\n",
              " tensor(0.9784),\n",
              " tensor(0.9794),\n",
              " tensor(0.9788),\n",
              " tensor(0.9800),\n",
              " tensor(0.9812),\n",
              " tensor(0.9789),\n",
              " tensor(0.9777),\n",
              " tensor(0.9809),\n",
              " tensor(0.9787),\n",
              " tensor(0.9821),\n",
              " tensor(0.9815),\n",
              " tensor(0.9824),\n",
              " tensor(0.9814),\n",
              " tensor(0.9818),\n",
              " tensor(0.9814),\n",
              " tensor(0.9807),\n",
              " tensor(0.9786),\n",
              " tensor(0.9844),\n",
              " tensor(0.9809),\n",
              " tensor(0.9827),\n",
              " tensor(0.9807),\n",
              " tensor(0.9819),\n",
              " tensor(0.9814),\n",
              " tensor(0.9827),\n",
              " tensor(0.9827),\n",
              " tensor(0.9806),\n",
              " tensor(0.9808),\n",
              " tensor(0.9835),\n",
              " tensor(0.9838),\n",
              " tensor(0.9835),\n",
              " tensor(0.9810),\n",
              " tensor(0.9818),\n",
              " tensor(0.9809),\n",
              " tensor(0.9837),\n",
              " tensor(0.9810),\n",
              " tensor(0.9811),\n",
              " tensor(0.9797),\n",
              " tensor(0.9806),\n",
              " tensor(0.9813),\n",
              " tensor(0.9834),\n",
              " tensor(0.9831),\n",
              " tensor(0.9819),\n",
              " tensor(0.9834),\n",
              " tensor(0.9816),\n",
              " tensor(0.9834),\n",
              " tensor(0.9820)]"
            ]
          },
          "metadata": {},
          "execution_count": 28
        }
      ],
      "source": [
        "accuracy = test_accuracy\n",
        "accuracy"
      ]
    },
    {
      "cell_type": "code",
      "execution_count": 32,
      "metadata": {
        "colab": {
          "base_uri": "https://localhost:8080/"
        },
        "id": "gXVehLDQMZz6",
        "outputId": "a82e9b93-65af-4e84-f378-e1decb6b1820"
      },
      "outputs": [
        {
          "output_type": "execute_result",
          "data": {
            "text/plain": [
              "0.9635215"
            ]
          },
          "metadata": {},
          "execution_count": 32
        }
      ],
      "source": [
        "import numpy as np\n",
        "avg_accuracy = np.mean(accuracy)\n",
        "avg_accuracy"
      ]
    }
  ],
  "metadata": {
    "kernelspec": {
      "display_name": "Python 3",
      "language": "python",
      "name": "python3"
    },
    "language_info": {
      "codemirror_mode": {
        "name": "ipython",
        "version": 3
      },
      "file_extension": ".py",
      "mimetype": "text/x-python",
      "name": "python",
      "nbconvert_exporter": "python",
      "pygments_lexer": "ipython3",
      "version": "3.7.4"
    },
    "colab": {
      "provenance": [],
      "include_colab_link": true
    }
  },
  "nbformat": 4,
  "nbformat_minor": 0
}